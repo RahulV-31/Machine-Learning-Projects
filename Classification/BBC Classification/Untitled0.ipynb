{
  "cells": [
    {
      "cell_type": "code",
      "execution_count": 20,
      "metadata": {
        "colab": {
          "base_uri": "https://localhost:8080/"
        },
        "id": "WQeIW0lyI3uK",
        "outputId": "4d2211e9-044c-44f3-9131-83c1023d8de6"
      },
      "outputs": [
        {
          "name": "stderr",
          "output_type": "stream",
          "text": [
            "[nltk_data] Downloading package stopwords to /root/nltk_data...\n",
            "[nltk_data]   Package stopwords is already up-to-date!\n",
            "[nltk_data] Downloading package wordnet to /root/nltk_data...\n",
            "[nltk_data]   Package wordnet is already up-to-date!\n"
          ]
        },
        {
          "data": {
            "text/plain": [
              "True"
            ]
          },
          "execution_count": 20,
          "metadata": {},
          "output_type": "execute_result"
        }
      ],
      "source": [
        "# Importing required libraries\n",
        "import numpy as np\n",
        "import pandas as pd\n",
        "from sklearn.model_selection import train_test_split\n",
        "from sklearn.feature_extraction.text import TfidfVectorizer\n",
        "from sklearn.naive_bayes import MultinomialNB\n",
        "from sklearn.linear_model import LogisticRegression\n",
        "from sklearn.metrics import accuracy_score, classification_report, confusion_matrix\n",
        "from sklearn.utils.class_weight import compute_class_weight\n",
        "from imblearn.over_sampling import SMOTE\n",
        "import seaborn as sns\n",
        "import matplotlib.pyplot as plt\n",
        "import nltk\n",
        "from nltk.corpus import stopwords\n",
        "from nltk.stem import WordNetLemmatizer\n",
        "import joblib\n",
        "\n",
        "# Download necessary NLTK data\n",
        "nltk.download('stopwords')\n",
        "nltk.download('wordnet')"
      ]
    },
    {
      "cell_type": "markdown",
      "metadata": {
        "id": "vCF2TZUH5ocS"
      },
      "source": [
        "Step 1: Load the dataset"
      ]
    },
    {
      "cell_type": "markdown",
      "metadata": {},
      "source": [
        "https://www.kaggle.com/datasets/alfathterry/bbc-full-text-document-classification\n",
        "dataset link"
      ]
    },
    {
      "cell_type": "code",
      "execution_count": 9,
      "metadata": {
        "id": "__q0At0RJqsV"
      },
      "outputs": [],
      "source": [
        "file_path = 'C:/Users/rahul/Downloads/bbc_data.csv/bbc_data.csv'  # Path to the CSV file containing BBC data\n",
        "bbc_data = pd.read_csv(file_path)  # Read the dataset into a pandas DataFrame"
      ]
    },
    {
      "cell_type": "code",
      "execution_count": 10,
      "metadata": {
        "id": "C4B1kyhJJ49E"
      },
      "outputs": [],
      "source": [
        "# Extract text and labels\n",
        "X = bbc_data['data']  # Text data (articles)\n",
        "y = bbc_data['labels']  # Target labels (categories)"
      ]
    },
    {
      "cell_type": "markdown",
      "metadata": {
        "id": "-TRsIKfAJ8Uq"
      },
      "source": [
        "Step 2: Explore the dataset"
      ]
    },
    {
      "cell_type": "code",
      "execution_count": 11,
      "metadata": {
        "colab": {
          "base_uri": "https://localhost:8080/"
        },
        "id": "yx4eSGg-J7KB",
        "outputId": "dc7404a4-1b65-4654-90e0-afe64fbbd319"
      },
      "outputs": [
        {
          "name": "stdout",
          "output_type": "stream",
          "text": [
            "Shape of the dataset:\n",
            "Number of documents: 2225\n",
            "Number of categories: 5\n",
            "\n",
            "Categories in the dataset:\n",
            "['business' 'entertainment' 'politics' 'sport' 'tech']\n",
            "\n",
            "Sample Document:\n",
            "Musicians to tackle US red tape  Musicians groups are to tackle US visa regulations which are blamed for hindering British acts chances of succeeding across the Atlantic.  A singer hoping to perform in the US can expect to pay $1,300 (xc2xa3680) simply for obtaining a visa. Groups including the Musicians Union are calling for an end to the \"raw deal\" faced by British performers. US acts are not faced with comparable expense and bureaucracy when visiting the UK for promotional purposes.  Nigel Mc\n"
          ]
        }
      ],
      "source": [
        "print(\"Shape of the dataset:\")\n",
        "print(f\"Number of documents: {len(X)}\")\n",
        "print(f\"Number of categories: {len(np.unique(y))}\")\n",
        "\n",
        "# Display the categories\n",
        "print(\"\\nCategories in the dataset:\")\n",
        "print(np.unique(y))  # Display unique category labels\n",
        "\n",
        "# Display the first document content for better understanding\n",
        "print(\"\\nSample Document:\")\n",
        "print(X.iloc[0][:500])  # Show the first 500 characters of the first document"
      ]
    },
    {
      "cell_type": "markdown",
      "metadata": {
        "id": "xl4gGsXqKJlj"
      },
      "source": [
        "Step 3: Text Preprocessing"
      ]
    },
    {
      "cell_type": "code",
      "execution_count": 12,
      "metadata": {
        "id": "nGskrYxKKNT8"
      },
      "outputs": [],
      "source": [
        "# Initialize lemmatizer and stopwords\n",
        "lemmatizer = WordNetLemmatizer()  # Lemmatizer to reduce words to their base form\n",
        "stop_words = set(stopwords.words('english'))  # Set of English stopwords\n",
        "\n",
        "def preprocess_text(text):\n",
        "    # Lowercasing the text\n",
        "    text = text.lower()\n",
        "    # Tokenization, stopword removal, and lemmatization\n",
        "    words = text.split()  # Split text into words\n",
        "    words = [lemmatizer.lemmatize(word) for word in words if word not in stop_words]  # Remove stopwords and lemmatize\n",
        "    return \" \".join(words)  # Join words back into a single string\n",
        "\n",
        "# Apply preprocessing to each document\n",
        "X_processed = [preprocess_text(doc) for doc in X]"
      ]
    },
    {
      "cell_type": "markdown",
      "metadata": {
        "id": "CkntOEidKPKt"
      },
      "source": [
        "Step 4: Convert text to numerical format using TF-IDF"
      ]
    },
    {
      "cell_type": "code",
      "execution_count": 13,
      "metadata": {
        "colab": {
          "base_uri": "https://localhost:8080/"
        },
        "id": "HU3FESFlKST0",
        "outputId": "9e612346-f099-4cea-a063-f3a9fdccfa74"
      },
      "outputs": [
        {
          "name": "stdout",
          "output_type": "stream",
          "text": [
            "\n",
            "Shape of the TF-IDF transformed data:\n",
            "(2225, 5000)\n"
          ]
        }
      ],
      "source": [
        "vectorizer = TfidfVectorizer(max_features=5000)  # Initialize TF-IDF Vectorizer with a max feature limit\n",
        "X_tfidf = vectorizer.fit_transform(X_processed)  # Transform the documents into TF-IDF features\n",
        "\n",
        "# Show the shape of the transformed data (rows = documents, columns = features)\n",
        "print(\"Shape of the TF-IDF transformed data:\")\n",
        "print(X_tfidf.shape)"
      ]
    },
    {
      "cell_type": "markdown",
      "metadata": {
        "id": "A_4gf8NDKWrH"
      },
      "source": [
        "Step 5: Split data into training and test sets"
      ]
    },
    {
      "cell_type": "code",
      "execution_count": 14,
      "metadata": {
        "id": "dV-414M7KZIA"
      },
      "outputs": [],
      "source": [
        "X_train, X_test, y_train, y_test = train_test_split(X_tfidf, y, test_size=0.2, random_state=42, stratify=y)  # Stratify to maintain class distribution"
      ]
    },
    {
      "cell_type": "markdown",
      "metadata": {
        "id": "73UUr_o2KaiK"
      },
      "source": [
        "Step 6: Handle Data Imbalance using SMOTE (Synthetic Minority Over-sampling Technique)"
      ]
    },
    {
      "cell_type": "code",
      "execution_count": 15,
      "metadata": {
        "id": "V0kzRiNOKct-"
      },
      "outputs": [],
      "source": [
        "smote = SMOTE(random_state=42)  # Initialize SMOTE\n",
        "X_train_res, y_train_res = smote.fit_resample(X_train, y_train)  # Resample the training data"
      ]
    },
    {
      "cell_type": "markdown",
      "metadata": {
        "id": "qoePsMzAKeQT"
      },
      "source": [
        "Step 7: Model 1 - Naive Bayes Classifier"
      ]
    },
    {
      "cell_type": "code",
      "execution_count": 16,
      "metadata": {
        "id": "9_SgA32xKkTz"
      },
      "outputs": [],
      "source": [
        "nb_model = MultinomialNB()  # Initialize the Multinomial Naive Bayes model\n",
        "nb_model.fit(X_train_res, y_train_res)  # Train the model on resampled data\n",
        "\n",
        "# Predictions on the test data\n",
        "y_pred_nb = nb_model.predict(X_test)  # Predict labels for test data"
      ]
    },
    {
      "cell_type": "code",
      "execution_count": 17,
      "metadata": {
        "colab": {
          "base_uri": "https://localhost:8080/",
          "height": 799
        },
        "id": "Lo_5Us9eKlzC",
        "outputId": "2b8f6bd8-adfd-4050-bbf6-fa0d9c9788c5"
      },
      "outputs": [
        {
          "name": "stdout",
          "output_type": "stream",
          "text": [
            "Naive Bayes Accuracy: 0.9797752808988764\n",
            "\n",
            "Classification Report for Naive Bayes:\n",
            "                precision    recall  f1-score   support\n",
            "\n",
            "     business       0.98      0.94      0.96       102\n",
            "entertainment       0.99      0.99      0.99        77\n",
            "     politics       0.97      0.99      0.98        84\n",
            "        sport       1.00      1.00      1.00       102\n",
            "         tech       0.96      0.99      0.98        80\n",
            "\n",
            "     accuracy                           0.98       445\n",
            "    macro avg       0.98      0.98      0.98       445\n",
            " weighted avg       0.98      0.98      0.98       445\n",
            "\n"
          ]
        },
        {
          "data": {
            "image/png": "[encoded data removed]",
            "text/plain": [
              "<Figure size 640x480 with 2 Axes>"
            ]
          },
          "metadata": {},
          "output_type": "display_data"
        }
      ],
      "source": [
        "# Evaluate the Naive Bayes model\n",
        "print(\"Naive Bayes Accuracy:\", accuracy_score(y_test, y_pred_nb))  # Print accuracy score\n",
        "print(\"\\nClassification Report for Naive Bayes:\\n\", classification_report(y_test, y_pred_nb))  # Detailed classification report\n",
        "\n",
        "# Confusion Matrix for Naive Bayes\n",
        "conf_matrix_nb = confusion_matrix(y_test, y_pred_nb, labels=np.unique(y))  # Generate confusion matrix\n",
        "sns.heatmap(conf_matrix_nb, annot=True, fmt='d', cmap=\"Blues\", xticklabels=np.unique(y), yticklabels=np.unique(y))  # Visualize confusion matrix\n",
        "plt.title(\"Naive Bayes Confusion Matrix\")  # Title for the plot\n",
        "plt.show()  # Display the plot"
      ]
    },
    {
      "cell_type": "markdown",
      "metadata": {
        "id": "WMeah7wgKnNJ"
      },
      "source": [
        "Step 8: Model 2 - Logistic Regression Classifier"
      ]
    },
    {
      "cell_type": "code",
      "execution_count": 18,
      "metadata": {
        "id": "L4zMrCl-J3Mh"
      },
      "outputs": [],
      "source": [
        "lr_model = LogisticRegression(max_iter=1000, class_weight='balanced')  # Initialize Logistic Regression model with balanced class weights\n",
        "lr_model.fit(X_train_res, y_train_res)  # Train the model on resampled data\n",
        "\n",
        "# Predictions on the test data\n",
        "y_pred_lr = lr_model.predict(X_test)  # Predict labels for test data"
      ]
    },
    {
      "cell_type": "code",
      "execution_count": 19,
      "metadata": {
        "colab": {
          "base_uri": "https://localhost:8080/",
          "height": 799
        },
        "id": "WVdd1Ba2KrcP",
        "outputId": "f3f647bb-6175-4411-a062-3dd47c84ab79"
      },
      "outputs": [
        {
          "name": "stdout",
          "output_type": "stream",
          "text": [
            "Logistic Regression Accuracy: 0.9797752808988764\n",
            "\n",
            "Classification Report for Logistic Regression:\n",
            "                precision    recall  f1-score   support\n",
            "\n",
            "     business       0.98      0.96      0.97       102\n",
            "entertainment       0.95      0.99      0.97        77\n",
            "     politics       0.99      0.99      0.99        84\n",
            "        sport       0.99      1.00      1.00       102\n",
            "         tech       0.99      0.96      0.97        80\n",
            "\n",
            "     accuracy                           0.98       445\n",
            "    macro avg       0.98      0.98      0.98       445\n",
            " weighted avg       0.98      0.98      0.98       445\n",
            "\n"
          ]
        },
        {
          "data": {
            "image/png": "[encoded data removed]",
            "text/plain": [
              "<Figure size 640x480 with 2 Axes>"
            ]
          },
          "metadata": {},
          "output_type": "display_data"
        }
      ],
      "source": [
        "# Evaluate the Logistic Regression model\n",
        "print(\"Logistic Regression Accuracy:\", accuracy_score(y_test, y_pred_lr))  # Print accuracy score\n",
        "print(\"\\nClassification Report for Logistic Regression:\\n\", classification_report(y_test, y_pred_lr))  # Detailed classification report\n",
        "\n",
        "# Confusion Matrix for Logistic Regression\n",
        "conf_matrix_lr = confusion_matrix(y_test, y_pred_lr, labels=np.unique(y))  # Generate confusion matrix\n",
        "sns.heatmap(conf_matrix_lr, annot=True, fmt='d', cmap=\"Blues\", xticklabels=np.unique(y), yticklabels=np.unique(y))  # Visualize confusion matrix\n",
        "plt.title(\"Logistic Regression Confusion Matrix\")  # Title for the plot\n",
        "plt.show()  # Display the plot"
      ]
    },
    {
      "cell_type": "code",
      "execution_count": 4,
      "metadata": {
        "colab": {
          "base_uri": "https://localhost:8080/"
        },
        "id": "bJRqVGLxIdDi",
        "outputId": "ecfbbdb6-2dde-44d2-f4fc-c18d740ee792"
      },
      "outputs": [
        {
          "name": "stdout",
          "output_type": "stream",
          "text": [
            "\n",
            "Naive Bayes Predictions for Unseen Data:\n",
            "Document 1: business\n",
            "Document 2: entertainment\n",
            "Document 3: tech\n",
            "\n",
            "Logistic Regression Predictions for Unseen Data:\n",
            "Document 1: business\n",
            "Document 2: entertainment\n",
            "Document 3: sport\n"
          ]
        }
      ],
      "source": [
        "# Unseen sample data\n",
        "unseen_data = [\n",
        "    \"The stock market showed a significant rise in prices today due to strong quarterly earnings.\",\n",
        "    \"The latest Hollywood blockbuster has broken all box office records this weekend.\",\n",
        "    \"Scientists have made a breakthrough in quantum computing, making it more accessible.\"\n",
        "]\n",
        "\n",
        "# Preprocess the unseen data\n",
        "unseen_data_processed = [preprocess_text(doc) for doc in unseen_data]\n",
        "\n",
        "# Convert unseen data to TF-IDF features\n",
        "unseen_data_tfidf = vectorizer.transform(unseen_data_processed)\n",
        "\n",
        "# Predictions using Naive Bayes\n",
        "nb_predictions = nb_model.predict(unseen_data_tfidf)\n",
        "print(\"\\nNaive Bayes Predictions for Unseen Data:\")\n",
        "for i, pred in enumerate(nb_predictions):\n",
        "    print(f\"Document {i+1}: {pred}\")\n",
        "\n",
        "# Predictions using Logistic Regression\n",
        "lr_predictions = lr_model.predict(unseen_data_tfidf)\n",
        "print(\"\\nLogistic Regression Predictions for Unseen Data:\")\n",
        "for i, pred in enumerate(lr_predictions):\n",
        "    print(f\"Document {i+1}: {pred}\")\n"
      ]
    },
    {
      "cell_type": "markdown",
      "metadata": {
        "id": "9EiovJDpMmEU"
      },
      "source": [
        "Save the Models and Vectorizer"
      ]
    },
    {
      "cell_type": "code",
      "execution_count": 21,
      "metadata": {
        "colab": {
          "base_uri": "https://localhost:8080/"
        },
        "id": "P4MlA4B-MlYC",
        "outputId": "8d91146d-b729-41b3-de98-7227113c2754"
      },
      "outputs": [
        {
          "data": {
            "text/plain": [
              "['tfidf_vectorizer.pkl']"
            ]
          },
          "execution_count": 21,
          "metadata": {},
          "output_type": "execute_result"
        }
      ],
      "source": [
        "# Save the Naive Bayes model, Logistic Regression model, and TF-IDF vectorizer\n",
        "joblib.dump(nb_model, 'naive_bayes_model.pkl')\n",
        "joblib.dump(lr_model, 'logistic_regression_model.pkl')\n",
        "joblib.dump(vectorizer, 'tfidf_vectorizer.pkl')"
      ]
    }
  ],
  "metadata": {
    "colab": {
      "provenance": []
    },
    "kernelspec": {
      "display_name": "Python 3",
      "name": "python3"
    },
    "language_info": {
      "name": "python"
    }
  },
  "nbformat": 4,
  "nbformat_minor": 0
}
